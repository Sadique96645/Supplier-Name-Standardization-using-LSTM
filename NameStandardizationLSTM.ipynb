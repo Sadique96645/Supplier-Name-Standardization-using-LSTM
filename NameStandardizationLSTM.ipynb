{
 "cells": [
  {
   "cell_type": "markdown",
   "id": "4d20c80c-f2e0-4ce7-a88e-f1d9fef6278a",
   "metadata": {},
   "source": [
    "## Supplier Name Standardization using LSTM"
   ]
  },
  {
   "cell_type": "markdown",
   "id": "2f589e58-b2d6-4a50-a700-902a0d9174c0",
   "metadata": {},
   "source": [
    "The primary application for LSTM in spend analysis is vendor name normalization, whereby vendor names are predicted. Many large companies that constitute a large portion of your spend will hold various names within your various data systems."
   ]
  },
  {
   "cell_type": "markdown",
   "id": "29f29768-6665-4a51-a885-365bb05f32c3",
   "metadata": {},
   "source": [
    "Aggregating these names into a single name is important to show how much spend is going to certain suppliers so that you may identify your key suppliers."
   ]
  },
  {
   "cell_type": "code",
   "execution_count": null,
   "id": "10a7ab05-fb01-44c4-92bf-14e1cfa7a9d8",
   "metadata": {},
   "outputs": [],
   "source": [
    "For example,\n",
    "[DELL FINANCIAL SERVICES, DELL MARKETING LP, DELL NV, DELLEMC, DMI DELL CORP BUS] Becomes DELL\n",
    "[ORACLE, ORACLE AMERICA INC, ORACLE CORPORATION, ORACLE FINANCIAL SERVICES, ORACLE USA INC] becomes ORACLE\n",
    "\n",
    "If you want to skip the hassle, you can find the full code here:"
   ]
  },
  {
   "cell_type": "code",
   "execution_count": 2,
   "id": "37d1f997-4012-430c-94c8-5ed932f9e64d",
   "metadata": {},
   "outputs": [],
   "source": [
    "import numpy as np\n",
    "import pandas as pd\n",
    "from tensorflow.keras.preprocessing.text import Tokenizer\n",
    "from tensorflow.keras.preprocessing.sequence import pad_sequences\n",
    "from tensorflow.keras.models import Sequential\n",
    "from tensorflow.keras.layers import Embedding, LSTM, Dense\n",
    "from sklearn.preprocessing import LabelEncoder\n",
    "from sklearn.model_selection import train_test_split\n",
    "from tensorflow.keras.utils import to_categorical"
   ]
  },
  {
   "cell_type": "code",
   "execution_count": 10,
   "id": "f8a1dd32-7417-46f0-8326-84bbadcfefbc",
   "metadata": {},
   "outputs": [],
   "source": [
    "df = pd.read_csv(r\"vendor_data.csv\")"
   ]
  },
  {
   "cell_type": "code",
   "execution_count": 11,
   "id": "16a06e57-4173-4590-a6f6-c2c6499a433d",
   "metadata": {},
   "outputs": [
    {
     "data": {
      "text/plain": [
       "(21, 3)"
      ]
     },
     "execution_count": 11,
     "metadata": {},
     "output_type": "execute_result"
    }
   ],
   "source": [
    "df.shape"
   ]
  },
  {
   "cell_type": "code",
   "execution_count": 12,
   "id": "98da1308-fd61-400d-948a-7f50e1402681",
   "metadata": {},
   "outputs": [
    {
     "data": {
      "text/html": [
       "<div>\n",
       "<style scoped>\n",
       "    .dataframe tbody tr th:only-of-type {\n",
       "        vertical-align: middle;\n",
       "    }\n",
       "\n",
       "    .dataframe tbody tr th {\n",
       "        vertical-align: top;\n",
       "    }\n",
       "\n",
       "    .dataframe thead th {\n",
       "        text-align: right;\n",
       "    }\n",
       "</style>\n",
       "<table border=\"1\" class=\"dataframe\">\n",
       "  <thead>\n",
       "    <tr style=\"text-align: right;\">\n",
       "      <th></th>\n",
       "      <th>Supplier Code</th>\n",
       "      <th>Supplier Name</th>\n",
       "      <th>predicted_name</th>\n",
       "    </tr>\n",
       "  </thead>\n",
       "  <tbody>\n",
       "    <tr>\n",
       "      <th>0</th>\n",
       "      <td>103</td>\n",
       "      <td>AMEREN ILLINOIS</td>\n",
       "      <td>AMEREN ILLINOIS</td>\n",
       "    </tr>\n",
       "    <tr>\n",
       "      <th>1</th>\n",
       "      <td>1601</td>\n",
       "      <td>AMEREN ILLINOIS</td>\n",
       "      <td>AMEREN ILLINOIS</td>\n",
       "    </tr>\n",
       "    <tr>\n",
       "      <th>2</th>\n",
       "      <td>1026</td>\n",
       "      <td>AT &amp; T</td>\n",
       "      <td>ATT</td>\n",
       "    </tr>\n",
       "    <tr>\n",
       "      <th>3</th>\n",
       "      <td>931</td>\n",
       "      <td>AT &amp; T MOBILITY</td>\n",
       "      <td>ATT</td>\n",
       "    </tr>\n",
       "    <tr>\n",
       "      <th>4</th>\n",
       "      <td>820</td>\n",
       "      <td>AT&amp;T</td>\n",
       "      <td>ATT</td>\n",
       "    </tr>\n",
       "  </tbody>\n",
       "</table>\n",
       "</div>"
      ],
      "text/plain": [
       "   Supplier Code    Supplier Name   predicted_name\n",
       "0            103  AMEREN ILLINOIS  AMEREN ILLINOIS\n",
       "1           1601  AMEREN ILLINOIS  AMEREN ILLINOIS\n",
       "2           1026           AT & T              ATT\n",
       "3            931  AT & T MOBILITY              ATT\n",
       "4            820             AT&T              ATT"
      ]
     },
     "execution_count": 12,
     "metadata": {},
     "output_type": "execute_result"
    }
   ],
   "source": [
    "df.head()"
   ]
  },
  {
   "cell_type": "code",
   "execution_count": 15,
   "id": "96e237b2-d2ac-41dc-b663-f588ded4d5cb",
   "metadata": {},
   "outputs": [
    {
     "data": {
      "text/html": [
       "<div>\n",
       "<style scoped>\n",
       "    .dataframe tbody tr th:only-of-type {\n",
       "        vertical-align: middle;\n",
       "    }\n",
       "\n",
       "    .dataframe tbody tr th {\n",
       "        vertical-align: top;\n",
       "    }\n",
       "\n",
       "    .dataframe thead th {\n",
       "        text-align: right;\n",
       "    }\n",
       "</style>\n",
       "<table border=\"1\" class=\"dataframe\">\n",
       "  <thead>\n",
       "    <tr style=\"text-align: right;\">\n",
       "      <th></th>\n",
       "      <th>Supplier Name</th>\n",
       "      <th>predicted_name</th>\n",
       "    </tr>\n",
       "  </thead>\n",
       "  <tbody>\n",
       "    <tr>\n",
       "      <th>0</th>\n",
       "      <td>AMEREN ILLINOIS</td>\n",
       "      <td>AMEREN ILLINOIS</td>\n",
       "    </tr>\n",
       "    <tr>\n",
       "      <th>1</th>\n",
       "      <td>AMEREN ILLINOIS</td>\n",
       "      <td>AMEREN ILLINOIS</td>\n",
       "    </tr>\n",
       "    <tr>\n",
       "      <th>2</th>\n",
       "      <td>AT &amp; T</td>\n",
       "      <td>ATT</td>\n",
       "    </tr>\n",
       "    <tr>\n",
       "      <th>3</th>\n",
       "      <td>AT &amp; T MOBILITY</td>\n",
       "      <td>ATT</td>\n",
       "    </tr>\n",
       "    <tr>\n",
       "      <th>4</th>\n",
       "      <td>AT&amp;T</td>\n",
       "      <td>ATT</td>\n",
       "    </tr>\n",
       "  </tbody>\n",
       "</table>\n",
       "</div>"
      ],
      "text/plain": [
       "     Supplier Name   predicted_name\n",
       "0  AMEREN ILLINOIS  AMEREN ILLINOIS\n",
       "1  AMEREN ILLINOIS  AMEREN ILLINOIS\n",
       "2           AT & T              ATT\n",
       "3  AT & T MOBILITY              ATT\n",
       "4             AT&T              ATT"
      ]
     },
     "execution_count": 15,
     "metadata": {},
     "output_type": "execute_result"
    }
   ],
   "source": [
    "df = df.drop(['Supplier Code'],axis = 1)\n",
    "df.head()"
   ]
  },
  {
   "cell_type": "code",
   "execution_count": 42,
   "id": "4fee4966-10a0-4229-b98c-f8f32813734d",
   "metadata": {},
   "outputs": [],
   "source": [
    "# Step 1: Preprocess the text data\n",
    "# Tokenize text\n",
    "tokenizer = Tokenizer()\n",
    "tokenizer.fit_on_texts(df['Supplier Name'])\n",
    "X = tokenizer.texts_to_sequences(df['Supplier Name'])"
   ]
  },
  {
   "cell_type": "code",
   "execution_count": 43,
   "id": "3bf23ac5-6a85-4dcb-a2c7-5ecff6b656ce",
   "metadata": {},
   "outputs": [],
   "source": [
    "# Pad sequences to ensure uniform input shape\n",
    "max_seq_len = max(len(seq) for seq in X)  # Max length of sequences\n",
    "X = pad_sequences(X, maxlen=max_seq_len, padding='post')"
   ]
  },
  {
   "cell_type": "code",
   "execution_count": 44,
   "id": "ff2ef52b-90e0-4535-891b-6d3d40bdbc0b",
   "metadata": {},
   "outputs": [],
   "source": [
    "# Step 2: Encode the labels (Supplier Names)\n",
    "label_encoder = LabelEncoder()\n",
    "y = label_encoder.fit_transform(df['predicted_name'])\n",
    "y = to_categorical(y)  # Convert labels to one-hot encoding"
   ]
  },
  {
   "cell_type": "code",
   "execution_count": 45,
   "id": "4e17b9c1-4205-4d3f-8900-37303ce4d676",
   "metadata": {},
   "outputs": [
    {
     "data": {
      "text/plain": [
       "array([[1., 0., 0., 0., 0.],\n",
       "       [1., 0., 0., 0., 0.],\n",
       "       [0., 1., 0., 0., 0.],\n",
       "       [0., 1., 0., 0., 0.],\n",
       "       [0., 1., 0., 0., 0.],\n",
       "       [0., 1., 0., 0., 0.],\n",
       "       [0., 0., 1., 0., 0.],\n",
       "       [0., 0., 1., 0., 0.],\n",
       "       [0., 0., 1., 0., 0.],\n",
       "       [0., 0., 0., 0., 1.],\n",
       "       [0., 0., 0., 0., 1.],\n",
       "       [0., 0., 0., 0., 1.],\n",
       "       [0., 0., 0., 0., 1.],\n",
       "       [0., 0., 0., 0., 1.],\n",
       "       [0., 0., 0., 0., 1.],\n",
       "       [0., 0., 0., 0., 1.],\n",
       "       [0., 0., 0., 1., 0.],\n",
       "       [0., 0., 0., 1., 0.],\n",
       "       [0., 0., 0., 1., 0.],\n",
       "       [0., 0., 0., 1., 0.],\n",
       "       [0., 0., 0., 1., 0.]], dtype=float32)"
      ]
     },
     "execution_count": 45,
     "metadata": {},
     "output_type": "execute_result"
    }
   ],
   "source": [
    "y"
   ]
  },
  {
   "cell_type": "code",
   "execution_count": 48,
   "id": "ff6003dc-8720-4b01-bb8f-2022c34152c1",
   "metadata": {},
   "outputs": [],
   "source": [
    "# Split data into training and test sets\n",
    "X_train, X_test, y_train, y_test = train_test_split(X, y, test_size=0.2, random_state=42,stratify = y)"
   ]
  },
  {
   "cell_type": "code",
   "execution_count": 49,
   "id": "0660292e-15ea-4028-b421-866bb161ad3f",
   "metadata": {},
   "outputs": [
    {
     "data": {
      "text/plain": [
       "array([[0., 0., 1., 0., 0.],\n",
       "       [0., 1., 0., 0., 0.],\n",
       "       [0., 0., 0., 0., 1.],\n",
       "       [0., 0., 0., 1., 0.],\n",
       "       [0., 0., 1., 0., 0.],\n",
       "       [0., 0., 0., 1., 0.],\n",
       "       [0., 1., 0., 0., 0.],\n",
       "       [1., 0., 0., 0., 0.],\n",
       "       [0., 1., 0., 0., 0.],\n",
       "       [0., 0., 0., 0., 1.],\n",
       "       [0., 0., 0., 0., 1.],\n",
       "       [0., 0., 0., 1., 0.],\n",
       "       [0., 0., 0., 0., 1.],\n",
       "       [1., 0., 0., 0., 0.],\n",
       "       [0., 0., 0., 1., 0.],\n",
       "       [0., 0., 0., 0., 1.]], dtype=float32)"
      ]
     },
     "execution_count": 49,
     "metadata": {},
     "output_type": "execute_result"
    }
   ],
   "source": [
    "y_train"
   ]
  },
  {
   "cell_type": "code",
   "execution_count": 50,
   "id": "8c66d120-3bd8-47c3-94ac-398a82b1b12f",
   "metadata": {},
   "outputs": [
    {
     "data": {
      "text/plain": [
       "array([[0., 0., 0., 1., 0.],\n",
       "       [0., 0., 0., 0., 1.],\n",
       "       [0., 1., 0., 0., 0.],\n",
       "       [0., 0., 0., 0., 1.],\n",
       "       [0., 0., 1., 0., 0.]], dtype=float32)"
      ]
     },
     "execution_count": 50,
     "metadata": {},
     "output_type": "execute_result"
    }
   ],
   "source": [
    "y_test"
   ]
  },
  {
   "cell_type": "code",
   "execution_count": 51,
   "id": "456bafdd-8c49-43bc-9422-f43c30396673",
   "metadata": {},
   "outputs": [],
   "source": [
    "# Step 3: Build the LSTM Model\n",
    "model = Sequential([\n",
    "    Embedding(input_dim=len(tokenizer.word_index) + 1, output_dim=64, input_length=max_seq_len),\n",
    "    LSTM(128, return_sequences=False),\n",
    "    Dense(y.shape[1], activation='softmax')  # Output layer with softmax for multi-class classification\n",
    "])"
   ]
  },
  {
   "cell_type": "code",
   "execution_count": 52,
   "id": "e923af72-f7d4-4b49-a26c-b7fc653ea944",
   "metadata": {},
   "outputs": [
    {
     "name": "stdout",
     "output_type": "stream",
     "text": [
      "Model: \"sequential_2\"\n",
      "_________________________________________________________________\n",
      " Layer (type)                Output Shape              Param #   \n",
      "=================================================================\n",
      " embedding_2 (Embedding)     (None, 4, 64)             1344      \n",
      "                                                                 \n",
      " lstm_2 (LSTM)               (None, 128)               98816     \n",
      "                                                                 \n",
      " dense_2 (Dense)             (None, 5)                 645       \n",
      "                                                                 \n",
      "=================================================================\n",
      "Total params: 100,805\n",
      "Trainable params: 100,805\n",
      "Non-trainable params: 0\n",
      "_________________________________________________________________\n"
     ]
    }
   ],
   "source": [
    "model.compile(optimizer='adam', loss='categorical_crossentropy', metrics=['accuracy'])\n",
    "model.summary()"
   ]
  },
  {
   "cell_type": "raw",
   "id": "6aa0eebd-2fca-420b-b49f-75708a92ebf9",
   "metadata": {},
   "source": [
    "# Step 2: Encode the labels (Supplier Names)\n",
    "label_encoder = LabelEncoder()\n",
    "y = label_encoder.fit_transform(df['predicted_name'])\n",
    "y = to_categorical(y)  # Convert labels to one-hot encoding"
   ]
  },
  {
   "cell_type": "raw",
   "id": "e0d8f959-bdbc-491c-b8e3-0e61f969b5c8",
   "metadata": {},
   "source": [
    "y_train = label_encoder.fit_transform(y_train['predicted_name'])\n",
    "y_train = to_categorical(y_train)  # Replace 5 with the actual number of classes if different"
   ]
  },
  {
   "cell_type": "code",
   "execution_count": 54,
   "id": "0f2f153b-faa8-4907-a4c3-6f04f9be0f82",
   "metadata": {},
   "outputs": [
    {
     "name": "stdout",
     "output_type": "stream",
     "text": [
      "Epoch 1/10\n",
      "6/6 [==============================] - 2s 32ms/step - loss: 1.3379 - accuracy: 0.5625 - val_loss: 1.3407 - val_accuracy: 0.6000\n",
      "Epoch 2/10\n",
      "6/6 [==============================] - 0s 15ms/step - loss: 1.1723 - accuracy: 0.7500 - val_loss: 1.1846 - val_accuracy: 0.6000\n",
      "Epoch 3/10\n",
      "6/6 [==============================] - 0s 17ms/step - loss: 0.9693 - accuracy: 0.7500 - val_loss: 1.0468 - val_accuracy: 0.8000\n",
      "Epoch 4/10\n",
      "6/6 [==============================] - 0s 16ms/step - loss: 0.7982 - accuracy: 0.8125 - val_loss: 0.9457 - val_accuracy: 0.8000\n",
      "Epoch 5/10\n",
      "6/6 [==============================] - 0s 15ms/step - loss: 0.6861 - accuracy: 0.8125 - val_loss: 0.8635 - val_accuracy: 0.6000\n",
      "Epoch 6/10\n",
      "6/6 [==============================] - 0s 15ms/step - loss: 0.5674 - accuracy: 0.8125 - val_loss: 0.7883 - val_accuracy: 0.6000\n",
      "Epoch 7/10\n",
      "6/6 [==============================] - 0s 16ms/step - loss: 0.4719 - accuracy: 0.8125 - val_loss: 0.7121 - val_accuracy: 0.6000\n",
      "Epoch 8/10\n",
      "6/6 [==============================] - 0s 16ms/step - loss: 0.3901 - accuracy: 0.9375 - val_loss: 0.6466 - val_accuracy: 0.6000\n",
      "Epoch 9/10\n",
      "6/6 [==============================] - 0s 15ms/step - loss: 0.3030 - accuracy: 0.9375 - val_loss: 0.5984 - val_accuracy: 0.6000\n",
      "Epoch 10/10\n",
      "6/6 [==============================] - 0s 17ms/step - loss: 0.2403 - accuracy: 1.0000 - val_loss: 0.5453 - val_accuracy: 0.8000\n"
     ]
    },
    {
     "data": {
      "text/plain": [
       "<keras.callbacks.History at 0x1b9a0ec5040>"
      ]
     },
     "execution_count": 54,
     "metadata": {},
     "output_type": "execute_result"
    }
   ],
   "source": [
    "# Step 4: Train the Model\n",
    "model.fit(X_train, y_train, epochs=10, batch_size=3, validation_data=(X_test, y_test))"
   ]
  },
  {
   "cell_type": "code",
   "execution_count": 55,
   "id": "9f8ad491-e03a-452b-bd3a-0e011456fa4b",
   "metadata": {},
   "outputs": [
    {
     "name": "stdout",
     "output_type": "stream",
     "text": [
      "1/1 [==============================] - 0s 26ms/step - loss: 0.5453 - accuracy: 0.8000\n",
      "Test Accuracy: 80.00%\n"
     ]
    }
   ],
   "source": [
    "loss, accuracy = model.evaluate(X_test, y_test)\n",
    "print(f\"Test Accuracy: {accuracy * 100:.2f}%\")"
   ]
  },
  {
   "cell_type": "code",
   "execution_count": 57,
   "id": "939bbf1b-3407-476a-b9e0-1e7143e95c92",
   "metadata": {},
   "outputs": [
    {
     "name": "stdout",
     "output_type": "stream",
     "text": [
      "1/1 [==============================] - 0s 33ms/step\n",
      "Predicted Supplier Name: ATT\n"
     ]
    }
   ],
   "source": [
    "# Predicting the supplier name for a new text\n",
    "new_text = [\"AT & T MOBILITY\"]\n",
    "new_text_seq = tokenizer.texts_to_sequences(new_text)\n",
    "new_text_padded = pad_sequences(new_text_seq, maxlen=max_seq_len, padding='post')\n",
    "prediction = model.predict(new_text_padded)\n",
    "\n",
    "# Decode the predicted label\n",
    "predicted_label = label_encoder.inverse_transform([np.argmax(prediction)])\n",
    "print(\"Predicted Supplier Name:\", predicted_label[0])"
   ]
  },
  {
   "cell_type": "code",
   "execution_count": 58,
   "id": "6f3b11ff-0e9b-4685-a1bd-1f3e550b9590",
   "metadata": {},
   "outputs": [
    {
     "name": "stdout",
     "output_type": "stream",
     "text": [
      "1/1 [==============================] - 0s 46ms/step\n",
      "Predicted Supplier Name: PITNEY BOWES\n"
     ]
    }
   ],
   "source": [
    "# Predicting the supplier name for a new text\n",
    "new_text = [\"PITNEY BOWES GLOBAL FINANCIAL\"]\n",
    "new_text_seq = tokenizer.texts_to_sequences(new_text)\n",
    "new_text_padded = pad_sequences(new_text_seq, maxlen=max_seq_len, padding='post')\n",
    "prediction = model.predict(new_text_padded)\n",
    "\n",
    "# Decode the predicted label\n",
    "predicted_label = label_encoder.inverse_transform([np.argmax(prediction)])\n",
    "print(\"Predicted Supplier Name:\", predicted_label[0])"
   ]
  },
  {
   "cell_type": "code",
   "execution_count": 67,
   "id": "f758e86b-adfb-45b8-bfc8-f37ab65b15f9",
   "metadata": {},
   "outputs": [
    {
     "name": "stdout",
     "output_type": "stream",
     "text": [
      "1/1 [==============================] - 0s 33ms/step\n",
      "Predicted Supplier Name: DELL\n"
     ]
    }
   ],
   "source": [
    "# Predicting the supplier name for a new text\n",
    "new_text = [\"DELL GLOBAL FINANCIAL\"]\n",
    "new_text_seq = tokenizer.texts_to_sequences(new_text)\n",
    "new_text_padded = pad_sequences(new_text_seq, maxlen=max_seq_len, padding='post')\n",
    "prediction = model.predict(new_text_padded)\n",
    "\n",
    "# Decode the predicted label\n",
    "predicted_label = label_encoder.inverse_transform([np.argmax(prediction)])\n",
    "print(\"Predicted Supplier Name:\", predicted_label[0])"
   ]
  },
  {
   "cell_type": "code",
   "execution_count": null,
   "id": "2ddb69b0-bb9e-42a3-8a03-be21c0fb841d",
   "metadata": {},
   "outputs": [],
   "source": []
  }
 ],
 "metadata": {
  "kernelspec": {
   "display_name": "Python 3 (ipykernel)",
   "language": "python",
   "name": "python3"
  },
  "language_info": {
   "codemirror_mode": {
    "name": "ipython",
    "version": 3
   },
   "file_extension": ".py",
   "mimetype": "text/x-python",
   "name": "python",
   "nbconvert_exporter": "python",
   "pygments_lexer": "ipython3",
   "version": "3.9.18"
  }
 },
 "nbformat": 4,
 "nbformat_minor": 5
}
